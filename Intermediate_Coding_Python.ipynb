{
  "nbformat": 4,
  "nbformat_minor": 0,
  "metadata": {
    "colab": {
      "provenance": [],
      "authorship_tag": "ABX9TyMWfg/VxzoN2IxxTsK5Dpvb",
      "include_colab_link": true
    },
    "kernelspec": {
      "name": "python3",
      "display_name": "Python 3"
    },
    "language_info": {
      "name": "python"
    }
  },
  "cells": [
    {
      "cell_type": "markdown",
      "metadata": {
        "id": "view-in-github",
        "colab_type": "text"
      },
      "source": [
        "<a href=\"https://colab.research.google.com/github/Charanmaloth/IntermediateCoding-Python/blob/main/Intermediate_Coding_Python.ipynb\" target=\"_parent\"><img src=\"https://colab.research.google.com/assets/colab-badge.svg\" alt=\"Open In Colab\"/></a>"
      ]
    },
    {
      "cell_type": "code",
      "source": [
        "!git clone 'https://github.com/Charanmaloth/IntermediateCoding-Python.git'"
      ],
      "metadata": {
        "colab": {
          "base_uri": "https://localhost:8080/"
        },
        "id": "_1cL5T42mrXM",
        "outputId": "3c77ccc3-4025-44ef-e92d-9cce8613d088"
      },
      "execution_count": 6,
      "outputs": [
        {
          "output_type": "stream",
          "name": "stdout",
          "text": [
            "Cloning into 'IntermediateCoding-Python'...\n",
            "remote: Enumerating objects: 3, done.\u001b[K\n",
            "remote: Counting objects: 100% (3/3), done.\u001b[K\n",
            "remote: Total 3 (delta 0), reused 0 (delta 0), pack-reused 0\u001b[K\n",
            "Receiving objects: 100% (3/3), done.\n"
          ]
        }
      ]
    },
    {
      "cell_type": "code",
      "source": [
        "!pip install geopandas"
      ],
      "metadata": {
        "colab": {
          "base_uri": "https://localhost:8080/"
        },
        "id": "Jr9_dLOcm7Hk",
        "outputId": "58c9d5fd-cea4-4b5f-feeb-42db7b89e492"
      },
      "execution_count": 7,
      "outputs": [
        {
          "output_type": "stream",
          "name": "stdout",
          "text": [
            "Requirement already satisfied: geopandas in /usr/local/lib/python3.10/dist-packages (0.13.2)\n",
            "Requirement already satisfied: fiona>=1.8.19 in /usr/local/lib/python3.10/dist-packages (from geopandas) (1.9.6)\n",
            "Requirement already satisfied: packaging in /usr/local/lib/python3.10/dist-packages (from geopandas) (24.1)\n",
            "Requirement already satisfied: pandas>=1.1.0 in /usr/local/lib/python3.10/dist-packages (from geopandas) (2.0.3)\n",
            "Requirement already satisfied: pyproj>=3.0.1 in /usr/local/lib/python3.10/dist-packages (from geopandas) (3.6.1)\n",
            "Requirement already satisfied: shapely>=1.7.1 in /usr/local/lib/python3.10/dist-packages (from geopandas) (2.0.4)\n",
            "Requirement already satisfied: attrs>=19.2.0 in /usr/local/lib/python3.10/dist-packages (from fiona>=1.8.19->geopandas) (23.2.0)\n",
            "Requirement already satisfied: certifi in /usr/local/lib/python3.10/dist-packages (from fiona>=1.8.19->geopandas) (2024.6.2)\n",
            "Requirement already satisfied: click~=8.0 in /usr/local/lib/python3.10/dist-packages (from fiona>=1.8.19->geopandas) (8.1.7)\n",
            "Requirement already satisfied: click-plugins>=1.0 in /usr/local/lib/python3.10/dist-packages (from fiona>=1.8.19->geopandas) (1.1.1)\n",
            "Requirement already satisfied: cligj>=0.5 in /usr/local/lib/python3.10/dist-packages (from fiona>=1.8.19->geopandas) (0.7.2)\n",
            "Requirement already satisfied: six in /usr/local/lib/python3.10/dist-packages (from fiona>=1.8.19->geopandas) (1.16.0)\n",
            "Requirement already satisfied: python-dateutil>=2.8.2 in /usr/local/lib/python3.10/dist-packages (from pandas>=1.1.0->geopandas) (2.8.2)\n",
            "Requirement already satisfied: pytz>=2020.1 in /usr/local/lib/python3.10/dist-packages (from pandas>=1.1.0->geopandas) (2023.4)\n",
            "Requirement already satisfied: tzdata>=2022.1 in /usr/local/lib/python3.10/dist-packages (from pandas>=1.1.0->geopandas) (2024.1)\n",
            "Requirement already satisfied: numpy>=1.21.0 in /usr/local/lib/python3.10/dist-packages (from pandas>=1.1.0->geopandas) (1.25.2)\n"
          ]
        }
      ]
    },
    {
      "cell_type": "code",
      "source": [
        "# NUMBERS PROGRAMS #"
      ],
      "metadata": {
        "id": "I4yUxfDzyYbO"
      },
      "execution_count": null,
      "outputs": []
    },
    {
      "cell_type": "code",
      "execution_count": null,
      "metadata": {
        "colab": {
          "base_uri": "https://localhost:8080/"
        },
        "id": "CuIZO8VY4AwV",
        "outputId": "0047f3be-f551-417f-e14b-285f43eff08e"
      },
      "outputs": [
        {
          "output_type": "stream",
          "name": "stdout",
          "text": [
            "5 4 3 2 1 "
          ]
        }
      ],
      "source": [
        "#Print first n natural numbers in reverse order\n",
        "n = 5\n",
        "for i in range(n,0,-1):\n",
        "  print(i,end=\" \")"
      ]
    },
    {
      "cell_type": "code",
      "source": [
        "i = n\n",
        "while i >= 1:\n",
        "  print(i,end=\" \")\n",
        "  i = i-1"
      ],
      "metadata": {
        "colab": {
          "base_uri": "https://localhost:8080/"
        },
        "id": "rBCNLOM54g6Z",
        "outputId": "a4c160ad-8578-4d2d-b8fa-0bb538f3ab4f"
      },
      "execution_count": null,
      "outputs": [
        {
          "output_type": "stream",
          "name": "stdout",
          "text": [
            "5 4 3 2 1 "
          ]
        }
      ]
    },
    {
      "cell_type": "code",
      "source": [
        "#Sum of n natural numbers\n",
        "sum = 0\n",
        "for i in range(5):\n",
        "  sum += i\n",
        "  print(sum)"
      ],
      "metadata": {
        "colab": {
          "base_uri": "https://localhost:8080/"
        },
        "id": "N7cZNXZj4uhd",
        "outputId": "ad85e904-9b82-4202-916b-3118e90f62c3"
      },
      "execution_count": null,
      "outputs": [
        {
          "output_type": "stream",
          "name": "stdout",
          "text": [
            "0\n",
            "1\n",
            "3\n",
            "6\n",
            "10\n"
          ]
        }
      ]
    },
    {
      "cell_type": "code",
      "source": [
        "n = 5\n",
        "print(n*(n+1)//2)"
      ],
      "metadata": {
        "colab": {
          "base_uri": "https://localhost:8080/"
        },
        "id": "G4dZ_ibr5G9O",
        "outputId": "333939e8-cd00-4937-ee12-ba7f8dae4fb2"
      },
      "execution_count": null,
      "outputs": [
        {
          "output_type": "stream",
          "name": "stdout",
          "text": [
            "15\n"
          ]
        }
      ]
    },
    {
      "cell_type": "code",
      "source": [
        "#Sum of numbers in a given range\n",
        "sum = 0\n",
        "a = 0\n",
        "b = 7\n",
        "for i in range(a, b+1):\n",
        "  sum += i\n",
        "  print(sum)"
      ],
      "metadata": {
        "colab": {
          "base_uri": "https://localhost:8080/"
        },
        "id": "Q7vgGxwf5OPR",
        "outputId": "b268e85b-e387-4ab8-a466-63d92be0b357"
      },
      "execution_count": null,
      "outputs": [
        {
          "output_type": "stream",
          "name": "stdout",
          "text": [
            "0\n",
            "1\n",
            "3\n",
            "6\n",
            "10\n",
            "15\n",
            "21\n",
            "28\n"
          ]
        }
      ]
    },
    {
      "cell_type": "code",
      "source": [
        "sum = b*(b+1)/2-a*(a+1)/2+a\n",
        "print(sum)"
      ],
      "metadata": {
        "colab": {
          "base_uri": "https://localhost:8080/"
        },
        "id": "20nuj5_b5gjE",
        "outputId": "d54c80e2-d848-4152-a482-ed0d2085ee6a"
      },
      "execution_count": null,
      "outputs": [
        {
          "output_type": "stream",
          "name": "stdout",
          "text": [
            "28.0\n"
          ]
        }
      ]
    },
    {
      "cell_type": "code",
      "source": [
        "#Leap Year Or Not\n",
        "n = 2000\n",
        "if n % 400 == 0:\n",
        "  print('Leap Year')\n",
        "elif n % 4 == 0 and n % 100 != 0:\n",
        "  print('Leap Year')\n",
        "else:\n",
        "  print('Not Leap Year')"
      ],
      "metadata": {
        "colab": {
          "base_uri": "https://localhost:8080/"
        },
        "id": "0DsmyVlF5z47",
        "outputId": "ae17b589-13fc-4d2b-f3fe-f6ce11613332"
      },
      "execution_count": null,
      "outputs": [
        {
          "output_type": "stream",
          "name": "stdout",
          "text": [
            "Leap Year\n"
          ]
        }
      ]
    },
    {
      "cell_type": "code",
      "source": [
        "if (n % 400 == 0 or (n % 4 == 0 and n % 100 != 0)):\n",
        "  print('Leap Year')\n",
        "else:\n",
        "  print('Not Leap Year')"
      ],
      "metadata": {
        "colab": {
          "base_uri": "https://localhost:8080/"
        },
        "id": "i5k429ZC6CO0",
        "outputId": "effb4fd0-decf-4f99-9798-e5f481062d33"
      },
      "execution_count": null,
      "outputs": [
        {
          "output_type": "stream",
          "name": "stdout",
          "text": [
            "Leap Year\n"
          ]
        }
      ]
    },
    {
      "cell_type": "code",
      "source": [
        "#Prime or Not\n",
        "#Method-1\n",
        "n = 5\n",
        "count = 0\n",
        "for i in range(1,n+1):\n",
        "  if n % i == 0:\n",
        "    count += 1\n",
        "#for negative values also\n",
        "if n < 2 or count > 2:\n",
        "  print('Not Prime')\n",
        "else:\n",
        "  print('Prime')"
      ],
      "metadata": {
        "colab": {
          "base_uri": "https://localhost:8080/"
        },
        "id": "GveCAfKU6ipQ",
        "outputId": "234a1000-4d1c-4d7c-e052-a11503e8e53d"
      },
      "execution_count": null,
      "outputs": [
        {
          "output_type": "stream",
          "name": "stdout",
          "text": [
            "Prime\n"
          ]
        }
      ]
    },
    {
      "cell_type": "code",
      "source": [
        "#Method-2\n",
        "isPrime = True\n",
        "n = 5\n",
        "if n < 2:\n",
        "  isPrime = False\n",
        "else:\n",
        "  for i in range(2,n):\n",
        "    if n % i == 0:\n",
        "      isPrime = False\n",
        "      break\n",
        "if isPrime:\n",
        "  print('Prime')\n",
        "else:\n",
        "  print('Not Prime')\n"
      ],
      "metadata": {
        "colab": {
          "base_uri": "https://localhost:8080/"
        },
        "id": "nFjN1XtmUxfO",
        "outputId": "30bea93e-f57d-4b98-a877-81779f298ecf"
      },
      "execution_count": null,
      "outputs": [
        {
          "output_type": "stream",
          "name": "stdout",
          "text": [
            "Prime\n"
          ]
        }
      ]
    },
    {
      "cell_type": "code",
      "source": [
        "#Method-3\n",
        "isPrime = True\n",
        "n = 55\n",
        "if n < 2:\n",
        "  isPrime = False\n",
        "else:\n",
        "  x = n // 2\n",
        "  for i in range(2,x+1):\n",
        "    if n % i  == 0:\n",
        "      isPrime = False\n",
        "      break\n",
        "if isPrime:\n",
        "  print('Prime')\n",
        "else:\n",
        "  print('Not Prime')"
      ],
      "metadata": {
        "colab": {
          "base_uri": "https://localhost:8080/"
        },
        "id": "b9diVdqcVkQo",
        "outputId": "195e394b-1db6-4ad3-d9d5-2243cb1a6da4"
      },
      "execution_count": null,
      "outputs": [
        {
          "output_type": "stream",
          "name": "stdout",
          "text": [
            "Not Prime\n"
          ]
        }
      ]
    },
    {
      "cell_type": "code",
      "source": [
        "#Method - 4\n",
        "import math\n",
        "isPrime = True\n",
        "n = 45\n",
        "if n < 2:\n",
        "  isPrime = False\n",
        "else:\n",
        "  for i in range(2, int(math.sqrt(n))+1):\n",
        "    if n % i == 0:\n",
        "      isPrime = False\n",
        "      break\n",
        "if isPrime:\n",
        "  print('Prime')\n",
        "else:\n",
        "  print('Not Prime')"
      ],
      "metadata": {
        "colab": {
          "base_uri": "https://localhost:8080/"
        },
        "id": "0_9a75N5YdaY",
        "outputId": "e8aa8430-5ae2-4889-b5ca-a1895bd374a1"
      },
      "execution_count": null,
      "outputs": [
        {
          "output_type": "stream",
          "name": "stdout",
          "text": [
            "Not Prime\n"
          ]
        }
      ]
    },
    {
      "cell_type": "code",
      "source": [
        "#Method-5\n",
        "from math import sqrt\n",
        "def isPrime(n):\n",
        "  if n <= 1:\n",
        "    return False\n",
        "  elif n == 2:\n",
        "    return True\n",
        "  elif n % 2 == 0:\n",
        "    return False\n",
        "    #check for odds\n",
        "    for i in range(3,int(sqrt(n))+1,2):\n",
        "      if n % i  == 0:\n",
        "        return False\n",
        "    return True\n",
        "num = 32\n",
        "if isPrime(num):\n",
        "  print('Prime')\n",
        "else:\n",
        "  print('Not Prime')"
      ],
      "metadata": {
        "colab": {
          "base_uri": "https://localhost:8080/"
        },
        "id": "B4030jn3Zgeq",
        "outputId": "8a8ff12b-74e0-4fcf-9c40-831417dd73d5"
      },
      "execution_count": null,
      "outputs": [
        {
          "output_type": "stream",
          "name": "stdout",
          "text": [
            "Not Prime\n"
          ]
        }
      ]
    },
    {
      "cell_type": "code",
      "source": [
        "#Prime num in a range\n",
        "Low, High = 2, 10\n",
        "prime = []\n",
        "for i in range(Low, High+1):\n",
        "  count = 0\n",
        "  if i < 2:\n",
        "    continue\n",
        "  if i == 2:\n",
        "    prime.append(i)\n",
        "    continue\n",
        "  for j in range(2,i):\n",
        "    if j % i == 0:\n",
        "      count = 1\n",
        "      break\n",
        "  if count == 0:\n",
        "    prime.append(i)\n",
        "print(prime)"
      ],
      "metadata": {
        "colab": {
          "base_uri": "https://localhost:8080/"
        },
        "id": "iP07jK3hyqsn",
        "outputId": "f12c5cfd-9a7d-4534-9c08-a1bdf3245e3c"
      },
      "execution_count": null,
      "outputs": [
        {
          "output_type": "stream",
          "name": "stdout",
          "text": [
            "[2, 3, 4, 5, 6, 7, 8, 9, 10]\n"
          ]
        }
      ]
    },
    {
      "cell_type": "code",
      "source": [
        "#Prime num in a range\n",
        "from math import sqrt\n",
        "def isPrime(n):\n",
        "    if n <= 1:\n",
        "        return False\n",
        "    elif n == 2:\n",
        "        return True\n",
        "    elif n % 2 == 0:\n",
        "        return False\n",
        "    # check for odds\n",
        "    for i in range(3, int(sqrt(n)) + 1, 2):\n",
        "        if n % i == 0:\n",
        "            return False\n",
        "    return True\n",
        "def primesInRange(start, end):\n",
        "    primes = []\n",
        "    for num in range(start, end + 1):\n",
        "        if isPrime(num):\n",
        "            primes.append(num)\n",
        "    return primes\n",
        "# Define the range\n",
        "start = 10\n",
        "end = 50\n",
        "# Get all prime numbers in the range\n",
        "prime_numbers = primesInRange(start, end)\n",
        "print(prime_numbers)"
      ],
      "metadata": {
        "colab": {
          "base_uri": "https://localhost:8080/"
        },
        "id": "ilNqnfiJco1Q",
        "outputId": "3fc9d8df-b94b-4a30-84e9-b20632cf3c70"
      },
      "execution_count": null,
      "outputs": [
        {
          "output_type": "stream",
          "name": "stdout",
          "text": [
            "[11, 13, 17, 19, 23, 29, 31, 37, 41, 43, 47]\n"
          ]
        }
      ]
    },
    {
      "cell_type": "code",
      "source": [
        "#sum of digits of a given num\n",
        "n = 14563\n",
        "sum = 0\n",
        "while n != 0:\n",
        "  sum += n % 10\n",
        "  n= n // 10\n",
        "print(sum)"
      ],
      "metadata": {
        "colab": {
          "base_uri": "https://localhost:8080/"
        },
        "id": "KpvEx78XkO6c",
        "outputId": "60a781d7-182a-4c69-cabb-0fa4c3a958e7"
      },
      "execution_count": null,
      "outputs": [
        {
          "output_type": "stream",
          "name": "stdout",
          "text": [
            "19\n"
          ]
        }
      ]
    },
    {
      "cell_type": "code",
      "source": [
        "#Reverse a num\n",
        "n = 17865\n",
        "num = n\n",
        "rem = 0\n",
        "rev = 0\n",
        "while num > 0:\n",
        "  rem = num % 10\n",
        "  rev = (rev * 10) + rem\n",
        "  num = num // 10\n",
        "print(str(rev))"
      ],
      "metadata": {
        "colab": {
          "base_uri": "https://localhost:8080/"
        },
        "id": "WHBT2mKvkocA",
        "outputId": "4a09ee4b-5a74-40e3-c7eb-474220601e5f"
      },
      "execution_count": null,
      "outputs": [
        {
          "output_type": "stream",
          "name": "stdout",
          "text": [
            "56871\n"
          ]
        }
      ]
    },
    {
      "cell_type": "code",
      "source": [
        "#for negative values\n",
        "def reverse(n):\n",
        "  if n < 0:\n",
        "    n = str(abs(n)) +'-'\n",
        "  return int(str(n)[::-1])\n",
        "n = -12345\n",
        "print(reverse(n))"
      ],
      "metadata": {
        "colab": {
          "base_uri": "https://localhost:8080/"
        },
        "id": "5GVHGTlsnYIz",
        "outputId": "385c284e-8660-4213-a6de-c82a3b2489fc"
      },
      "execution_count": null,
      "outputs": [
        {
          "output_type": "stream",
          "name": "stdout",
          "text": [
            "-54321\n"
          ]
        }
      ]
    },
    {
      "cell_type": "code",
      "source": [
        "#Palindrome or Not\n",
        "num = 1441\n",
        "rev = 0\n",
        "rem = 0\n",
        "temp = num\n",
        "while temp != 0:\n",
        "  rem = temp % 10\n",
        "  rev = (rev * 10) + rem\n",
        "  temp = temp // 10\n",
        "if num == rev:\n",
        "  print('Palindrome')\n",
        "else:\n",
        "  print('Not Palindrome')"
      ],
      "metadata": {
        "colab": {
          "base_uri": "https://localhost:8080/"
        },
        "id": "PRhFuwJ4oKP5",
        "outputId": "5e000105-a8d5-4ea7-d1d7-dfb51c14e4a5"
      },
      "execution_count": null,
      "outputs": [
        {
          "output_type": "stream",
          "name": "stdout",
          "text": [
            "Palindrome\n"
          ]
        }
      ]
    },
    {
      "cell_type": "code",
      "source": [
        "# ADVANCED NUMBERS #"
      ],
      "metadata": {
        "id": "HKY2S9yjykRh"
      },
      "execution_count": null,
      "outputs": []
    },
    {
      "cell_type": "code",
      "source": [
        "#Armstrong number\n",
        "from math import pow\n",
        "num = 1634\n",
        "sum = 0\n",
        "temp = num\n",
        "order = len(str(num))\n",
        "while temp != 0:\n",
        "  digit = temp % 10\n",
        "  sum = sum + pow(digit, order)\n",
        "  temp //= 10\n",
        "if num == sum:\n",
        "  print('Armstrong')\n",
        "else:\n",
        "  print('Not Armstrong')\n"
      ],
      "metadata": {
        "colab": {
          "base_uri": "https://localhost:8080/"
        },
        "id": "t_krBNCKo5bk",
        "outputId": "b722abe3-cf8d-4d47-f5da-302acd102dc7"
      },
      "execution_count": null,
      "outputs": [
        {
          "output_type": "stream",
          "name": "stdout",
          "text": [
            "Armstrong\n"
          ]
        }
      ]
    },
    {
      "cell_type": "code",
      "source": [
        "#Method-2\n",
        "def order(num):\n",
        "  return len(str(num))\n",
        "def armstrong(num,len):\n",
        "  temp = num\n",
        "  sum = 0\n",
        "  while temp != 0:\n",
        "    digit = temp % 10\n",
        "    sum += digit ** len\n",
        "    temp //= 10\n",
        "  return sum == num\n",
        "num = 1634\n",
        "len = order(num)\n",
        "if armstrong(num,len):\n",
        "  print('Armstrong')\n",
        "else:\n",
        "  print('Not Armstrong')"
      ],
      "metadata": {
        "colab": {
          "base_uri": "https://localhost:8080/"
        },
        "id": "_ftRG8Vvatki",
        "outputId": "60c4be5c-e696-42fa-ca58-745322aa102d"
      },
      "execution_count": null,
      "outputs": [
        {
          "output_type": "stream",
          "name": "stdout",
          "text": [
            "Armstrong\n"
          ]
        }
      ]
    },
    {
      "cell_type": "code",
      "source": [
        "#Print Prime factors of a num\n",
        "from math import sqrt\n",
        "def primefactor(n):\n",
        "  for i in range(2,int(sqrt(n))+1):\n",
        "    while n % i == 0:\n",
        "      print(i,end=' ')\n",
        "      n = n/i\n",
        "#checking for prime num and divisibility\n",
        "  if n > 2:\n",
        "    print(n)\n",
        "#Printing greater than 2 num directly\n",
        "n = 1716\n",
        "primefactor(n)"
      ],
      "metadata": {
        "colab": {
          "base_uri": "https://localhost:8080/"
        },
        "id": "PG_ga10jjaFJ",
        "outputId": "a9e5f685-da8c-4a24-a3b7-add9ccac483f"
      },
      "execution_count": null,
      "outputs": [
        {
          "output_type": "stream",
          "name": "stdout",
          "text": [
            "2 2 3 11 13 "
          ]
        }
      ]
    },
    {
      "cell_type": "code",
      "source": [
        "#Prime factor of a num\n",
        "from math import sqrt\n",
        "def primeFact(n):\n",
        "  F = []\n",
        "  for i in range(2,int(sqrt(n))+1):\n",
        "    while n % i == 0:\n",
        "      F.append(i)\n",
        "      n = n // i\n",
        "  if n > 2:\n",
        "    F.append(int(n))\n",
        "  return 'x'.join(map(str,F))\n",
        "n=1716\n",
        "print(primeFact(n))"
      ],
      "metadata": {
        "colab": {
          "base_uri": "https://localhost:8080/"
        },
        "id": "yxBN5qbhvGOV",
        "outputId": "32b392c1-8f40-4744-dfa8-2385b048d5c7"
      },
      "execution_count": null,
      "outputs": [
        {
          "output_type": "stream",
          "name": "stdout",
          "text": [
            "2x2x3x11x13\n"
          ]
        }
      ]
    },
    {
      "cell_type": "code",
      "source": [
        "from re import I\n",
        "#HCF/GCD\n",
        "#Method-1\n",
        "num1 = 27\n",
        "num2 = 45\n",
        "hcf = 1\n",
        "small = num1 if num1 < num2 else num2\n",
        "for i in range(1,small+1):\n",
        "  if(num1 % i == 0) and (num2 % i == 0):\n",
        "    hcf = i\n",
        "print(str(hcf))"
      ],
      "metadata": {
        "colab": {
          "base_uri": "https://localhost:8080/"
        },
        "id": "745HR7yit0lk",
        "outputId": "44ebee27-67ed-4a00-f72b-1704931cc2d5"
      },
      "execution_count": null,
      "outputs": [
        {
          "output_type": "stream",
          "name": "stdout",
          "text": [
            "9\n"
          ]
        }
      ]
    },
    {
      "cell_type": "code",
      "source": [
        "#Method-2\n",
        "m = 144\n",
        "n = 32\n",
        "while m != n:\n",
        "  if m > n:\n",
        "    m = m - n\n",
        "  else:\n",
        "    n = n - m\n",
        "print(m)"
      ],
      "metadata": {
        "colab": {
          "base_uri": "https://localhost:8080/"
        },
        "id": "yjEm4UBiu9lZ",
        "outputId": "1a6a800a-def5-4081-a98a-b6585e249abd"
      },
      "execution_count": null,
      "outputs": [
        {
          "output_type": "stream",
          "name": "stdout",
          "text": [
            "16\n"
          ]
        }
      ]
    },
    {
      "cell_type": "code",
      "source": [
        "#LCM\n",
        "#Method-1\n",
        "num1 = 36\n",
        "num2 = 60\n",
        "lcm = 1\n",
        "maxi = num1 if num1 > num2 else num2\n",
        "limit = num1 * num2\n",
        "for i in range(maxi, limit + 1, maxi):\n",
        "  if i % num1 == 0:\n",
        "    lcm = i\n",
        "    print(str(int(lcm)))\n",
        "    break"
      ],
      "metadata": {
        "colab": {
          "base_uri": "https://localhost:8080/"
        },
        "id": "F68e5PO7vxAy",
        "outputId": "60026124-b5e0-433c-c666-04bb0da2ef64"
      },
      "execution_count": null,
      "outputs": [
        {
          "output_type": "stream",
          "name": "stdout",
          "text": [
            "180\n"
          ]
        }
      ]
    },
    {
      "cell_type": "code",
      "source": [
        "#Method-2\n",
        "n1 = 36\n",
        "n2 = 60\n",
        "hcf = 1\n",
        "small = n1 if n1 < n2 else n2\n",
        "for i in range(1,small+1):\n",
        "  if n1 % i == 0 and n2 % i == 0:\n",
        "    hcf = i\n",
        "    lcm = n1 * n2 / hcf\n",
        "print(str(int(lcm)))"
      ],
      "metadata": {
        "colab": {
          "base_uri": "https://localhost:8080/"
        },
        "id": "Ts5aEl3mwn_X",
        "outputId": "7039c731-236e-4c48-9d79-6393f18e354d"
      },
      "execution_count": null,
      "outputs": [
        {
          "output_type": "stream",
          "name": "stdout",
          "text": [
            "180\n"
          ]
        }
      ]
    },
    {
      "cell_type": "code",
      "source": [
        "#Method-3\n",
        "n1 = 36\n",
        "n2 = 60\n",
        "def lcm_finds(n1,n2):\n",
        "  if n1 > n2:\n",
        "    max = n1\n",
        "  else:\n",
        "    max = n2\n",
        "  temp = max\n",
        "  while True:\n",
        "    if (max % n1 == 0) and (max % n2 == 0):\n",
        "      lcm = max\n",
        "      break\n",
        "    max = max + temp\n",
        "  print(str(lcm))\n",
        "lcm_finds(n1, n2)"
      ],
      "metadata": {
        "colab": {
          "base_uri": "https://localhost:8080/"
        },
        "id": "eQdDwrepxLGl",
        "outputId": "33096f5f-c9fa-44ad-bea0-0ef093ad6827"
      },
      "execution_count": null,
      "outputs": [
        {
          "output_type": "stream",
          "name": "stdout",
          "text": [
            "180\n"
          ]
        }
      ]
    },
    {
      "cell_type": "code",
      "source": [
        "#Binary To Decimal Conversion\n",
        "def convert(n):\n",
        "  i = 0\n",
        "  decimal = 0\n",
        "  while n != 0:\n",
        "    digit = n % 10\n",
        "    decimal += digit * pow(2, i)\n",
        "    n = n // 10\n",
        "    i += 1\n",
        "  return decimal\n",
        "n = 101\n",
        "print(convert(n))"
      ],
      "metadata": {
        "colab": {
          "base_uri": "https://localhost:8080/"
        },
        "id": "6ZzLQSu_yCgl",
        "outputId": "bf05fe85-5ad5-4353-9a8a-57c99f257bde"
      },
      "execution_count": null,
      "outputs": [
        {
          "output_type": "stream",
          "name": "stdout",
          "text": [
            "5\n"
          ]
        }
      ]
    },
    {
      "cell_type": "code",
      "source": [
        "#Octal to decimal Conversion\n",
        "def convert(n):\n",
        "  i = 0\n",
        "  decimal = 0\n",
        "  base = 8\n",
        "  while n != 0:\n",
        "    digit = n % 10\n",
        "    decimal += digit * pow(base, i)\n",
        "    n = n // 10\n",
        "    i += 1\n",
        "  return decimal\n",
        "n = 71412\n",
        "print(convert(n))"
      ],
      "metadata": {
        "colab": {
          "base_uri": "https://localhost:8080/"
        },
        "id": "pGp_0Shu0KQZ",
        "outputId": "6202fed2-bb25-46b5-9499-5a29fd17316a"
      },
      "execution_count": null,
      "outputs": [
        {
          "output_type": "stream",
          "name": "stdout",
          "text": [
            "29450\n"
          ]
        }
      ]
    },
    {
      "cell_type": "code",
      "source": [
        "#Hexadecimal to decimal conversion\n",
        "def convert(n):\n",
        "  length = len(n)\n",
        "  decimal = 0\n",
        "  pos = 0\n",
        "  for i in range(length-1, -1, -1):\n",
        "    #ASCII Value feom 0 - 9\n",
        "    if '0' <= n[i] <= '9':\n",
        "      digit = ord(n[i])-48\n",
        "      #Conerts into int values\n",
        "      decimal += digit * pow(16, pos)\n",
        "      pos += 1\n",
        "    #ASCII value from A - F\n",
        "    elif 'A' <= n[i] <= 'F':\n",
        "      digit = ord(n[i])-55\n",
        "      #Converts into int values\n",
        "      decimal += digit * pow(16, pos)\n",
        "      pos += 1\n",
        "  return decimal\n",
        "n = input()\n",
        "print(convert(n))"
      ],
      "metadata": {
        "colab": {
          "base_uri": "https://localhost:8080/"
        },
        "id": "k_VwuvZH1AjY",
        "outputId": "1de3a0db-07a2-42b0-be36-5e09316b32af"
      },
      "execution_count": null,
      "outputs": [
        {
          "output_type": "stream",
          "name": "stdout",
          "text": [
            "1A32D\n",
            "107309\n"
          ]
        }
      ]
    },
    {
      "cell_type": "code",
      "source": [
        "#Method - 2\n",
        "num = input()\n",
        "base = 16\n",
        "decimal = int(num, base)\n",
        "print(decimal)"
      ],
      "metadata": {
        "colab": {
          "base_uri": "https://localhost:8080/"
        },
        "id": "LcRQx-Vh4FwW",
        "outputId": "42cdf81b-79b1-4ef1-8d41-0938af77d2a8"
      },
      "execution_count": null,
      "outputs": [
        {
          "output_type": "stream",
          "name": "stdout",
          "text": [
            "1A32D\n",
            "107309\n"
          ]
        }
      ]
    },
    {
      "cell_type": "code",
      "source": [
        "#Decimal to binary conversion\n",
        "def convert(n):\n",
        "  binary = []\n",
        "  while n != 0:\n",
        "    binary.insert(0, n % 2)\n",
        "    n = n // 2\n",
        "  print(''.join(str(x) for x in binary))\n",
        "num = 14\n",
        "print(convert(num))"
      ],
      "metadata": {
        "colab": {
          "base_uri": "https://localhost:8080/"
        },
        "id": "on5umIhW4mGH",
        "outputId": "3fc7459a-66c1-4d9c-a1d1-21cd3bf5af5d"
      },
      "execution_count": null,
      "outputs": [
        {
          "output_type": "stream",
          "name": "stdout",
          "text": [
            "1110\n",
            "None\n"
          ]
        }
      ]
    },
    {
      "cell_type": "code",
      "source": [
        "#Method - 2\n",
        "def convert(n):\n",
        "  binary = 0\n",
        "  i = 1\n",
        "  while n != 0:\n",
        "    rem = n % 2\n",
        "    binary += rem * i\n",
        "    rem = rem // 2\n",
        "    i = i * 10\n",
        "  print(binary)\n",
        "\n",
        "n = 14\n",
        "print(convert(n))"
      ],
      "metadata": {
        "id": "TkRc4XIrjhyZ"
      },
      "execution_count": null,
      "outputs": []
    },
    {
      "cell_type": "code",
      "source": [
        "#Decimal to Octal Conversion\n",
        "def convert(n):\n",
        "  octal = []\n",
        "  while n != 0:\n",
        "    octal.insert(0, n % 8)\n",
        "    n //= 8\n",
        "  print(''.join(str(x) for x in octal))\n",
        "n = 148\n",
        "print(convert(n))"
      ],
      "metadata": {
        "colab": {
          "base_uri": "https://localhost:8080/"
        },
        "id": "clhdQhNgjiun",
        "outputId": "1f6b2d31-9584-4a93-fd89-a3877d55b693"
      },
      "execution_count": 2,
      "outputs": [
        {
          "output_type": "stream",
          "name": "stdout",
          "text": [
            "224\n",
            "None\n"
          ]
        }
      ]
    },
    {
      "cell_type": "code",
      "source": [
        "#Method - 2\n",
        "def convert(n):\n",
        "  octal = 0\n",
        "  i = 0\n",
        "  while n!=0:\n",
        "    rem = n % 8\n",
        "    octal += rem * i\n",
        "    i *= 10\n",
        "  print(octal)\n",
        "n = 67\n",
        "print(convert(n))"
      ],
      "metadata": {
        "id": "kCjYztniltup"
      },
      "execution_count": null,
      "outputs": []
    },
    {
      "cell_type": "code",
      "source": [
        "#Decimal to hexadecimal conversion\n",
        "def convert(n):\n",
        "  hex = []\n",
        "  while n!=0:\n",
        "    rem = 0\n",
        "    rem = n % 16\n",
        "    if rem < 10:\n",
        "      hex.insert(0, chr(rem+48))\n",
        "    else:\n",
        "      hex.insert(0, chr(rem+55))\n",
        "    n //= 16\n",
        "  print(''.join(str(x) for x in hex))\n",
        "n = 892\n",
        "print(convert(n))"
      ],
      "metadata": {
        "colab": {
          "base_uri": "https://localhost:8080/"
        },
        "id": "-yQpCtQqmRLq",
        "outputId": "6ddaaed7-361d-43ae-e67f-41202e0eb874"
      },
      "execution_count": 2,
      "outputs": [
        {
          "output_type": "stream",
          "name": "stdout",
          "text": [
            "37C\n",
            "None\n"
          ]
        }
      ]
    },
    {
      "cell_type": "code",
      "source": [
        "#Method - 2\n",
        "def convert(n):\n",
        "  if n == 0:\n",
        "    return '0'\n",
        "  hex = []\n",
        "  while n != 0:\n",
        "    rem = 0\n",
        "    rem = n % 16\n",
        "    if rem < 10:\n",
        "      hex.insert(0, chr(rem + 48))\n",
        "    else:\n",
        "      hex.insert(0, chr(rem + 55))\n",
        "    n //= 16\n",
        "  return ''.join(hex)\n",
        "\n",
        "n = 1456\n",
        "print(convert(n))"
      ],
      "metadata": {
        "colab": {
          "base_uri": "https://localhost:8080/"
        },
        "id": "KWp3HYT5GWj0",
        "outputId": "de2235ba-7655-423a-cf5f-2d0eb5e02be3"
      },
      "execution_count": 4,
      "outputs": [
        {
          "output_type": "stream",
          "name": "stdout",
          "text": [
            "5B0\n"
          ]
        }
      ]
    },
    {
      "cell_type": "code",
      "source": [
        "# ARRAYS #"
      ],
      "metadata": {
        "id": "QHvaS9O8J1c3"
      },
      "execution_count": null,
      "outputs": []
    },
    {
      "cell_type": "code",
      "source": [
        "#Linear Search\n",
        "def linearSearch(arr, item):\n",
        "  for i in range(len(arr)):\n",
        "    if arr[i] == item:\n",
        "      print(str(item)+ ' Found at index '+str(i))\n",
        "      return\n",
        "  print('Not Found')\n",
        "arr = [2,3,12,45,6,54,64]\n",
        "item = 45\n",
        "print(linearSearch(arr,item))"
      ],
      "metadata": {
        "colab": {
          "base_uri": "https://localhost:8080/"
        },
        "id": "uQpdiMLmL9eu",
        "outputId": "180d51e0-7273-4d8b-a7f8-72e635f8f26b"
      },
      "execution_count": 18,
      "outputs": [
        {
          "output_type": "stream",
          "name": "stdout",
          "text": [
            "45 Found at index 3\n",
            "None\n"
          ]
        }
      ]
    },
    {
      "cell_type": "code",
      "source": [
        "#Smallest element in an array\n",
        "def small(arr):\n",
        "  min = arr[0]\n",
        "  for i in range(1, len(arr)):\n",
        "    if arr[i] < min:\n",
        "      min = arr[i]\n",
        "      return min\n",
        "arr = [7,11,-18,-3,-7,4,5]\n",
        "print(str(small(arr)))"
      ],
      "metadata": {
        "colab": {
          "base_uri": "https://localhost:8080/"
        },
        "id": "DMn_QNBLXFLg",
        "outputId": "d071b26f-2a5f-48d6-9d11-c0a8ca0b7320"
      },
      "execution_count": 20,
      "outputs": [
        {
          "output_type": "stream",
          "name": "stdout",
          "text": [
            "-18\n"
          ]
        }
      ]
    },
    {
      "cell_type": "code",
      "source": [
        "#Method - 2(arr.sort)\n",
        "arr = [7,11,-18,-3,-7,4,5]\n",
        "arr.sort()\n",
        "print(str(arr[0]))"
      ],
      "metadata": {
        "colab": {
          "base_uri": "https://localhost:8080/"
        },
        "id": "WkiDaCxbYCfF",
        "outputId": "8493fc2c-a7cc-4e48-921a-c9b88e42286b"
      },
      "execution_count": 21,
      "outputs": [
        {
          "output_type": "stream",
          "name": "stdout",
          "text": [
            "-18\n"
          ]
        }
      ]
    },
    {
      "cell_type": "code",
      "source": [
        "#Method - 3(in-built)\n",
        "arr = [7,11,-18,-3,-7,4,5]\n",
        "print(str(min(arr)))"
      ],
      "metadata": {
        "colab": {
          "base_uri": "https://localhost:8080/"
        },
        "id": "SEOE_TLCYWtc",
        "outputId": "f6972096-0830-4472-fe93-966ea95ab4a6"
      },
      "execution_count": 22,
      "outputs": [
        {
          "output_type": "stream",
          "name": "stdout",
          "text": [
            "-18\n"
          ]
        }
      ]
    },
    {
      "cell_type": "code",
      "source": [
        "#Largest Element in an array\n",
        "def large(arr):\n",
        "  max = arr[0]\n",
        "  for i in range(1, len(arr)):\n",
        "    if arr[i] > max:\n",
        "      max = arr[i]\n",
        "  return max\n",
        "arr = [3,22,-9,0,77,64,34]\n",
        "print(str(large(arr)))"
      ],
      "metadata": {
        "colab": {
          "base_uri": "https://localhost:8080/"
        },
        "id": "D5aJzIc3Yh8-",
        "outputId": "395c64cb-36c1-4c83-f0d0-1aeb0a778dc7"
      },
      "execution_count": 24,
      "outputs": [
        {
          "output_type": "stream",
          "name": "stdout",
          "text": [
            "77\n"
          ]
        }
      ]
    },
    {
      "cell_type": "code",
      "source": [
        "#Method - 2(arr.sort)\n",
        "arr = [3,22,-9,0,77,64,34]\n",
        "arr.sort()\n",
        "print(str(arr[len(arr)-1]))"
      ],
      "metadata": {
        "colab": {
          "base_uri": "https://localhost:8080/"
        },
        "id": "_JIPKnESaCs_",
        "outputId": "ae842161-d7a9-40ba-e28f-2db4bf274fa5"
      },
      "execution_count": 25,
      "outputs": [
        {
          "output_type": "stream",
          "name": "stdout",
          "text": [
            "77\n"
          ]
        }
      ]
    },
    {
      "cell_type": "code",
      "source": [
        "#Method - 3(in-build)\n",
        "arr = [3,22,-9,0,77,64,34]\n",
        "print(str(max(arr)))"
      ],
      "metadata": {
        "colab": {
          "base_uri": "https://localhost:8080/"
        },
        "id": "WDe7LKc0avlF",
        "outputId": "57428088-da5d-4937-a835-f645c0f14b0c"
      },
      "execution_count": 26,
      "outputs": [
        {
          "output_type": "stream",
          "name": "stdout",
          "text": [
            "77\n"
          ]
        }
      ]
    },
    {
      "cell_type": "code",
      "source": [
        "#Second smallest element in an array\n",
        "arr = [3,22,-9,0,77,64,34]\n",
        "arr.sort()\n",
        "print(str(arr[1]))"
      ],
      "metadata": {
        "colab": {
          "base_uri": "https://localhost:8080/"
        },
        "id": "l7gq-P5ebBLK",
        "outputId": "f84d6a5c-f15a-49fc-d00a-a9d383a7d8b0"
      },
      "execution_count": 27,
      "outputs": [
        {
          "output_type": "stream",
          "name": "stdout",
          "text": [
            "0\n"
          ]
        }
      ]
    },
    {
      "cell_type": "code",
      "source": [
        "#Second largest element in an array\n",
        "arr = [3,22,-9,0,77,64,34]\n",
        "arr.sort()\n",
        "print(str(arr[len(arr)-2]))"
      ],
      "metadata": {
        "colab": {
          "base_uri": "https://localhost:8080/"
        },
        "id": "aNjIB9HIbTw1",
        "outputId": "3c226bdc-629a-49b5-d915-fd5a5596e83f"
      },
      "execution_count": 28,
      "outputs": [
        {
          "output_type": "stream",
          "name": "stdout",
          "text": [
            "64\n"
          ]
        }
      ]
    },
    {
      "cell_type": "code",
      "source": [
        "#Bubble Sort - O(n2)\n",
        "def bubble_sort(arr):\n",
        "  n = len(arr)\n",
        "  for i in range(n-1):\n",
        "    for j in range(n-i-1):\n",
        "      if arr[j] > arr[j+1]:\n",
        "        arr[j],arr[j+1] = arr[j+1],arr[j]\n",
        "def display(arr):\n",
        "  print(' '.join(str(x) for x in arr))\n",
        "arr = [5,3,1,9,8,2,4,7]\n",
        "bubble_sort(arr)\n",
        "display(arr)"
      ],
      "metadata": {
        "colab": {
          "base_uri": "https://localhost:8080/"
        },
        "id": "pB5a0rRZbeVU",
        "outputId": "e9177c55-af3c-4b91-939a-b9c3c536744d"
      },
      "execution_count": 6,
      "outputs": [
        {
          "output_type": "stream",
          "name": "stdout",
          "text": [
            "1 2 3 4 5 7 8 9\n"
          ]
        }
      ]
    },
    {
      "cell_type": "code",
      "source": [
        "#Bubble Sort (Best case - O(n))\n",
        "def bubble_sort(arr):\n",
        "  n = len(arr)\n",
        "  for i in range(n-1):\n",
        "    swapped = False\n",
        "    for j in range(n-i-1):\n",
        "      if arr[j] > arr[j+1]:\n",
        "        arr[j],arr[j+1] = arr[j+1],arr[j]\n",
        "        swapped = True\n",
        "    if not swapped:\n",
        "      break\n",
        "def display(arr):\n",
        "  print(' '.join(str(x) for x in arr))\n",
        "arr = [5,3,1,9,8,2,4,7]\n",
        "bubble_sort(arr)\n",
        "display(arr)"
      ],
      "metadata": {
        "colab": {
          "base_uri": "https://localhost:8080/"
        },
        "id": "mY0VCemAqGet",
        "outputId": "f06b12bc-a1cd-431a-9612-03f86ab2de35"
      },
      "execution_count": 7,
      "outputs": [
        {
          "output_type": "stream",
          "name": "stdout",
          "text": [
            "1 2 3 4 5 7 8 9\n"
          ]
        }
      ]
    },
    {
      "cell_type": "code",
      "source": [
        "#Counting Distinct elements in an array\n",
        "arr = [30,50,30,10,20,40,10,20]\n",
        "n = len(arr)\n",
        "visited = [False] * n\n",
        "count_dis = 0\n",
        "for i in range(n):\n",
        "  for j in range(i+1, n):\n",
        "    if arr[i] == arr[j]:\n",
        "      visited[j] = True\n",
        "  count_dis += 1\n",
        "print(count_dis)"
      ],
      "metadata": {
        "colab": {
          "base_uri": "https://localhost:8080/"
        },
        "id": "6Xa8kKQOrFrH",
        "outputId": "f40c208f-214c-4cb3-bd8a-2ef3116eb42f"
      },
      "execution_count": 8,
      "outputs": [
        {
          "output_type": "stream",
          "name": "stdout",
          "text": [
            "8\n"
          ]
        }
      ]
    },
    {
      "cell_type": "code",
      "source": [
        "#Method -2\n",
        "def countDis(arr, n):\n",
        "  count = 0\n",
        "  for i in range(0, n):\n",
        "    flag = False\n",
        "    for j in range(i+1, n):\n",
        "      if arr[i] == arr[j]:\n",
        "        flag = True\n",
        "        break\n",
        "    if flag == False:\n",
        "      count += 1\n",
        "  return count\n",
        "arr = [5,8,5,7,8,10]\n",
        "n = len(arr)\n",
        "print(countDis(arr, n))"
      ],
      "metadata": {
        "colab": {
          "base_uri": "https://localhost:8080/"
        },
        "id": "o94x-ys5sRXQ",
        "outputId": "bb10be40-b154-47f1-c1e1-4219835c541d"
      },
      "execution_count": 1,
      "outputs": [
        {
          "output_type": "stream",
          "name": "stdout",
          "text": [
            "4\n"
          ]
        }
      ]
    },
    {
      "cell_type": "code",
      "source": [
        "#Method - 3\n",
        "def countDis(arr, n):\n",
        "  arr.sort()\n",
        "  count = 0\n",
        "  i = 0\n",
        "  while i < n:\n",
        "    while i < n-1 and arr[i] == arr[i+1]:\n",
        "      i += 1\n",
        "    count += 1\n",
        "    i += 1\n",
        "  return count\n",
        "arr = [5,8,5,7,8,10]\n",
        "n = len(arr)\n",
        "print(countDis(arr, n))"
      ],
      "metadata": {
        "colab": {
          "base_uri": "https://localhost:8080/"
        },
        "id": "RhZ0dIQ78OrX",
        "outputId": "b3f109df-f7a2-4867-da56-8ec7cb790490"
      },
      "execution_count": 2,
      "outputs": [
        {
          "output_type": "stream",
          "name": "stdout",
          "text": [
            "4\n"
          ]
        }
      ]
    },
    {
      "cell_type": "code",
      "source": [
        "#Kth Smallest element in an array\n",
        "arr = [2,8,14,-5,-8,-4]\n",
        "k = 4\n",
        "arr.sort()\n",
        "print(arr[k-1])"
      ],
      "metadata": {
        "colab": {
          "base_uri": "https://localhost:8080/"
        },
        "id": "7wWTaObk_wGC",
        "outputId": "6b32c65a-0849-4c2e-bd41-9864fe006201"
      },
      "execution_count": 3,
      "outputs": [
        {
          "output_type": "stream",
          "name": "stdout",
          "text": [
            "2\n"
          ]
        }
      ]
    },
    {
      "cell_type": "code",
      "source": [
        "#Method - 2\n",
        "def Ksmallest(arr,n,k):\n",
        "  arr.sort()\n",
        "  i = 0\n",
        "  while i < n:\n",
        "    while i < n-1 and arr[i] == arr[i+1]:\n",
        "      i += 1\n",
        "    k -= 1\n",
        "    if k == 0:\n",
        "      break\n",
        "    i += 1\n",
        "  return arr[i]\n",
        "arr = [1,3,2,1,4,2,5,6,3,3,4]\n",
        "n = len(arr)\n",
        "k = 4\n",
        "print(Ksmallest(arr,n,k))"
      ],
      "metadata": {
        "colab": {
          "base_uri": "https://localhost:8080/"
        },
        "id": "fzq1bh4dAQil",
        "outputId": "22a85d1d-b8a2-41e3-dd5b-202ebbffb32b"
      },
      "execution_count": 4,
      "outputs": [
        {
          "output_type": "stream",
          "name": "stdout",
          "text": [
            "4\n"
          ]
        }
      ]
    },
    {
      "cell_type": "code",
      "source": [
        "#Finding the frequency of elements in an array\n",
        "arr = [10,20,20,10,20,10,20,30,10]\n",
        "n = len(arr)\n",
        "visited =[False]*n\n",
        "for i in range(n):\n",
        "  if not visited[i]:\n",
        "    count = 1\n",
        "    for j in range(i+1, n):\n",
        "      if arr[i] == arr[j]:\n",
        "        count += 1\n",
        "        visited[j] =True\n",
        "    print(str(arr[i])+' : '+str(count))"
      ],
      "metadata": {
        "colab": {
          "base_uri": "https://localhost:8080/"
        },
        "id": "ty29fo-kBJIL",
        "outputId": "97020817-eb7d-4fa9-9ab8-14f8ab912b25"
      },
      "execution_count": 3,
      "outputs": [
        {
          "output_type": "stream",
          "name": "stdout",
          "text": [
            "10 : 4\n",
            "20 : 4\n",
            "30 : 1\n"
          ]
        }
      ]
    },
    {
      "cell_type": "code",
      "source": [
        "#Method - 2\n",
        "def countFreq(arr, n):\n",
        "  for i in range(0,n):\n",
        "    flag = False\n",
        "    count = 0\n",
        "    for j in range(i+1, n):\n",
        "      if arr[i] == arr[j]:\n",
        "        flag = True\n",
        "        break\n",
        "    if flag == True:\n",
        "      continue\n",
        "    for j in range(0, i+1):\n",
        "      if arr[i] == arr[j]:\n",
        "        count += 1\n",
        "    print('{0}:{1}'.format(arr[i],count))\n",
        "arr = [10,20,20,10,20,10,20,30,10]\n",
        "n = len(arr)\n",
        "print(countFreq(arr, n))"
      ],
      "metadata": {
        "colab": {
          "base_uri": "https://localhost:8080/"
        },
        "id": "NpH8mdjKhVXx",
        "outputId": "e5a359e3-5a26-4ba6-e5e5-92a153fc03fa"
      },
      "execution_count": 4,
      "outputs": [
        {
          "output_type": "stream",
          "name": "stdout",
          "text": [
            "20:4\n",
            "30:1\n",
            "10:4\n",
            "None\n"
          ]
        }
      ]
    },
    {
      "cell_type": "code",
      "source": [
        "#Method - 3\n",
        "def countFreq(arr, n):\n",
        "  arr.sort()\n",
        "  i = 0\n",
        "  while i < n:\n",
        "    count = 1\n",
        "    while i < n-1 and arr[i] == arr[i+1]:\n",
        "      i += 1\n",
        "      count += 1\n",
        "    print('{0}:{1}'.format(arr[i], count))\n",
        "    i += 1\n",
        "arr = [10,20,20,10,20,10,20,30,10]\n",
        "n = len(arr)\n",
        "print(countFreq(arr, n))"
      ],
      "metadata": {
        "colab": {
          "base_uri": "https://localhost:8080/"
        },
        "id": "VNruqaKKlkWt",
        "outputId": "d5721906-a0eb-4802-af79-ba51cc2cebad"
      },
      "execution_count": 5,
      "outputs": [
        {
          "output_type": "stream",
          "name": "stdout",
          "text": [
            "10:4\n",
            "20:4\n",
            "30:1\n",
            "None\n"
          ]
        }
      ]
    }
  ]
}